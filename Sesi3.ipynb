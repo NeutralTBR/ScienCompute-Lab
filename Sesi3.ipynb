{
  "nbformat": 4,
  "nbformat_minor": 0,
  "metadata": {
    "colab": {
      "provenance": [],
      "authorship_tag": "ABX9TyOjALWndASjk8Z0PhiTvy2D",
      "include_colab_link": true
    },
    "kernelspec": {
      "name": "python3",
      "display_name": "Python 3"
    },
    "language_info": {
      "name": "python"
    }
  },
  "cells": [
    {
      "cell_type": "markdown",
      "metadata": {
        "id": "view-in-github",
        "colab_type": "text"
      },
      "source": [
        "<a href=\"https://colab.research.google.com/github/NeutralTBR/ScienCompute-Lab/blob/main/Sesi3.ipynb\" target=\"_parent\"><img src=\"https://colab.research.google.com/assets/colab-badge.svg\" alt=\"Open In Colab\"/></a>"
      ]
    },
    {
      "cell_type": "code",
      "execution_count": 2,
      "metadata": {
        "colab": {
          "base_uri": "https://localhost:8080/"
        },
        "id": "7If_KpuOHJlQ",
        "outputId": "0421b776-be3d-4362-8381-a7c77fcbb260"
      },
      "outputs": [
        {
          "output_type": "stream",
          "name": "stdout",
          "text": [
            "Eigenvalue: 3.999949137887188\n",
            "Eigenvector: [0.50000636 1.        ]\n"
          ]
        }
      ],
      "source": [
        "import numpy as np\n",
        "def normalize(x):\n",
        "  fac = abs(x).max()\n",
        "  x_n = x/x.max()\n",
        "  return fac,x_n\n",
        "x = np.array([1,1])\n",
        "a = np.array([[0,2],\n",
        "              [2,3]])\n",
        "\n",
        "for i in range(8):\n",
        "  x = np.dot(a,x)\n",
        "  lambda_1,x = normalize(x)\n",
        "\n",
        "print('Eigenvalue:',lambda_1)\n",
        "print('Eigenvector:',x)"
      ]
    },
    {
      "cell_type": "code",
      "source": [
        "from numpy.linalg import inv\n",
        "a_inv = inv(a)\n",
        "\n",
        "for i in range(8):\n",
        "  x = np.dot(a_inv,x)\n",
        "  lambda_1,x = normalize(x)\n",
        "\n",
        "print('Eigenvalue:',lambda_1)\n",
        "print('Eigenvector:',x)"
      ],
      "metadata": {
        "colab": {
          "base_uri": "https://localhost:8080/"
        },
        "id": "hDc1DmIUIH8I",
        "outputId": "b086ad2a-ad5d-47e9-80d0-27cacaea1fb0"
      },
      "execution_count": 4,
      "outputs": [
        {
          "output_type": "stream",
          "name": "stdout",
          "text": [
            "Eigenvalue: 0.20000000000024853\n",
            "Eigenvector: [1. 1.]\n"
          ]
        }
      ]
    },
    {
      "cell_type": "code",
      "source": [
        "import numpy as np\n",
        "from numpy.linalg import eig\n",
        "a- np.array([[0,2],\n",
        "             [2,3]])\n",
        "w,v = eig(a)\n",
        "print('E-value:',w)\n",
        "print('E-vector:',v)"
      ],
      "metadata": {
        "colab": {
          "base_uri": "https://localhost:8080/"
        },
        "id": "bjLsJGEiIeIc",
        "outputId": "a151116f-b5d7-4049-e970-80c31e7e83c0"
      },
      "execution_count": 5,
      "outputs": [
        {
          "output_type": "stream",
          "name": "stdout",
          "text": [
            "E-value: [-1.  4.]\n",
            "E-vector: [[-0.89442719 -0.4472136 ]\n",
            " [ 0.4472136  -0.89442719]]\n"
          ]
        }
      ]
    },
    {
      "cell_type": "code",
      "source": [
        "import numpy as np\n",
        "from numpy.linalg import eig\n",
        "a = np.array([[2,2,4],\n",
        "              [1,3,5],\n",
        "              [2,3,4]])\n",
        "w,v = eig(a)\n",
        "print('E-value:',w)\n",
        "print('E-vector:',v)"
      ],
      "metadata": {
        "colab": {
          "base_uri": "https://localhost:8080/"
        },
        "id": "2vvHa2xsI2M2",
        "outputId": "e368622e-8e62-4002-aa46-c2440e8c6d80"
      },
      "execution_count": 6,
      "outputs": [
        {
          "output_type": "stream",
          "name": "stdout",
          "text": [
            "E-value: [ 8.80916362  0.92620912 -0.73537273]\n",
            "E-vector: [[-0.52799324 -0.77557092 -0.36272811]\n",
            " [-0.604391    0.62277013 -0.7103262 ]\n",
            " [-0.59660259 -0.10318482  0.60321224]]\n"
          ]
        }
      ]
    }
  ]
}