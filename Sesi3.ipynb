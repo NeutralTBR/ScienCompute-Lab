{
  "nbformat": 4,
  "nbformat_minor": 0,
  "metadata": {
    "colab": {
      "provenance": [],
      "authorship_tag": "ABX9TyPfz/U9ROLlSdsodIyw8sl3",
      "include_colab_link": true
    },
    "kernelspec": {
      "name": "python3",
      "display_name": "Python 3"
    },
    "language_info": {
      "name": "python"
    }
  },
  "cells": [
    {
      "cell_type": "markdown",
      "metadata": {
        "id": "view-in-github",
        "colab_type": "text"
      },
      "source": [
        "<a href=\"https://colab.research.google.com/github/NeutralTBR/ScienCompute-Lab/blob/main/Sesi3.ipynb\" target=\"_parent\"><img src=\"https://colab.research.google.com/assets/colab-badge.svg\" alt=\"Open In Colab\"/></a>"
      ]
    },
    {
      "cell_type": "markdown",
      "source": [
        "Linear Interpolation"
      ],
      "metadata": {
        "id": "dPmh5OpfVv4D"
      }
    },
    {
      "cell_type": "code",
      "execution_count": 7,
      "metadata": {
        "colab": {
          "base_uri": "https://localhost:8080/"
        },
        "id": "XwXUdZanRqtP",
        "outputId": "0e8c83fd-e44b-41fa-aacb-7e05d0722aed"
      },
      "outputs": [
        {
          "output_type": "stream",
          "name": "stderr",
          "text": [
            "<ipython-input-7-0b5eef484cf0>:17: MatplotlibDeprecationWarning: The seaborn styles shipped by Matplotlib are deprecated since 3.6, as they no longer correspond to the styles shipped by seaborn. However, they will remain available as 'seaborn-v0_8-<style>'. Alternatively, directly use the seaborn API instead.\n",
            "  plt.style.use('seaborn-poster')\n"
          ]
        }
      ],
      "source": [
        "from scipy.interpolate import interp1d\n",
        "from scipy.interpolate import CubicSpline\n",
        "import numpy as np\n",
        "import matplotlib.pyplot as plt\n",
        "plt.style.use('seaborn-poster')"
      ]
    },
    {
      "cell_type": "code",
      "source": [
        "x = [0,1,2,3,4,5]\n",
        "y = [1,3,3,5,2,2]"
      ],
      "metadata": {
        "id": "CJii5nCYTE0s"
      },
      "execution_count": 8,
      "outputs": []
    },
    {
      "cell_type": "code",
      "source": [
        "f = interp1d(x,y)\n",
        "\n",
        "x_lin = np.linspace(0,5,100)\n",
        "y_lin = f(x_lin)\n",
        "\n",
        "y_ask = f(3.1)\n",
        "print(y_ask)"
      ],
      "metadata": {
        "colab": {
          "base_uri": "https://localhost:8080/"
        },
        "id": "y2sPR-B3TTms",
        "outputId": "c67f5db0-eeb4-4db7-e660-eec60d3fb21d"
      },
      "execution_count": 10,
      "outputs": [
        {
          "output_type": "stream",
          "name": "stdout",
          "text": [
            "4.699999999999999\n"
          ]
        }
      ]
    },
    {
      "cell_type": "code",
      "source": [
        "plt.plot(x,y,'ob')\n",
        "plt.plot(x_lin,y_lin,'b')\n",
        "plt.plot(3.1,f(3.1),'ro')\n",
        "\n",
        "plt.show()"
      ],
      "metadata": {
        "colab": {
          "base_uri": "https://localhost:8080/",
          "height": 539
        },
        "id": "yqvS1ULPT3sP",
        "outputId": "c7411660-76de-4424-967d-0e86a75e5688"
      },
      "execution_count": 11,
      "outputs": [
        {
          "output_type": "display_data",
          "data": {
            "text/plain": [
              "<Figure size 921.6x633.6 with 1 Axes>"
            ],
            "image/png": "[encoded data removed]"
          },
          "metadata": {
            "needs_background": "light"
          }
        }
      ]
    },
    {
      "cell_type": "markdown",
      "source": [
        "Newton Interpolation"
      ],
      "metadata": {
        "id": "BsEKr71gV0V8"
      }
    },
    {
      "cell_type": "code",
      "source": [
        "import numpy as np\n",
        "import matplotlib.pyplot as plt\n",
        "\n",
        "plt.style.use('seaborn-poster')\n",
        "\n",
        "%matplotlib inline\n",
        "def deivided_diff(x,y):\n",
        "  '''\n",
        "  function to calculate the divided differences table\n",
        "  '''\n",
        "  n = len(y)\n",
        "  coef = np.zeros([n,n])\n",
        "  # the first column is y\n",
        "  coef[:,0] = y\n",
        "\n",
        "  for j in range(1,n):\n",
        "    for i in range(n-j):\n",
        "      coef[i][j] = \\\n",
        "      (coef[i+1][j-1] - coef[i][j] / (x[i+j]-x[i]))\n",
        "\n",
        "  return coef\n",
        "\n",
        "def newton_poly(coef, x_data, x):\n",
        "  '''\n",
        "  evaluate the newton polynomial\n",
        "  at x\n",
        "  '''\n",
        "\n",
        "  n = len(x_data) - 1\n",
        "  p = coef[n]\n",
        "  for k in range(1,n+1):\n",
        "    p = coef[n-k] + (x - x_data[n-k])*p"
      ],
      "metadata": {
        "colab": {
          "base_uri": "https://localhost:8080/"
        },
        "id": "C3IyaU_mV3Bu",
        "outputId": "5b939543-195b-4f32-fee5-4fffa357d95b"
      },
      "execution_count": 13,
      "outputs": [
        {
          "output_type": "stream",
          "name": "stderr",
          "text": [
            "<ipython-input-13-f716fea1c8ab>:4: MatplotlibDeprecationWarning: The seaborn styles shipped by Matplotlib are deprecated since 3.6, as they no longer correspond to the styles shipped by seaborn. However, they will remain available as 'seaborn-v0_8-<style>'. Alternatively, directly use the seaborn API instead.\n",
            "  plt.style.use('seaborn-poster')\n"
          ]
        }
      ]
    },
    {
      "cell_type": "code",
      "source": [],
      "metadata": {
        "id": "5M3hSPH8Y8JG"
      },
      "execution_count": null,
      "outputs": []
    }
  ]
}