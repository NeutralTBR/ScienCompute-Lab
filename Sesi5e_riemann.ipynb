{
  "nbformat": 4,
  "nbformat_minor": 0,
  "metadata": {
    "colab": {
      "provenance": [],
      "authorship_tag": "ABX9TyPEW+fqlkoMvV0YHso0+GEn",
      "include_colab_link": true
    },
    "kernelspec": {
      "name": "python3",
      "display_name": "Python 3"
    },
    "language_info": {
      "name": "python"
    }
  },
  "cells": [
    {
      "cell_type": "markdown",
      "metadata": {
        "id": "view-in-github",
        "colab_type": "text"
      },
      "source": [
        "<a href=\"https://colab.research.google.com/github/NeutralTBR/ScienCompute-Lab/blob/main/Sesi5e_riemann.ipynb\" target=\"_parent\"><img src=\"https://colab.research.google.com/assets/colab-badge.svg\" alt=\"Open In Colab\"/></a>"
      ]
    },
    {
      "cell_type": "code",
      "execution_count": 19,
      "metadata": {
        "colab": {
          "base_uri": "https://localhost:8080/"
        },
        "id": "wBkL0iW54T9H",
        "outputId": "17221a62-b379-494a-b927-c5bd427f6b9c"
      },
      "outputs": [
        {
          "output_type": "stream",
          "name": "stdout",
          "text": [
            "Left riemann:  1.9835235375094546 \n",
            "Left riemann err:  0.01647646249054535 \n",
            " \n",
            "Right riemann:  1.9835235375094546 \n",
            "Right riemann error:  0.01647646249054535 \n",
            "\n",
            "Midpoint:  2.0082484079079745 \n",
            "Midpoint err:  -0.008248407907974542\n"
          ]
        }
      ],
      "source": [
        "import numpy as np\n",
        "\n",
        "a = 0\n",
        "b = np.pi\n",
        "n = 11\n",
        "h = (b-a) / (n-1)\n",
        "x = np.linspace(a, b, n)\n",
        "f = np.sin(x)\n",
        "\n",
        "I_riemannL = h * sum(f[:n-1])\n",
        "err_riemannL = 2 - I_riemannL\n",
        "\n",
        "I_riemannR = h * sum(f[1::])\n",
        "err_riemannR = 2 - I_riemannR\n",
        "\n",
        "I_mid = h * sum(np.sin((x[:n-1] \\\n",
        "        + x[1:])/2))\n",
        "err_mid = 2 - I_mid\n",
        "\n",
        "print(\"Left riemann: \",I_riemannL,\"\\n\"\n",
        "      \"Left riemann err: \",err_riemannL,\"\\n\",\n",
        "      \"\\nRight riemann: \",I_riemannR,\n",
        "      \"\\nRight riemann error: \",err_riemannR,\n",
        "      \"\\n\\nMidpoint: \",I_mid,\n",
        "      \"\\nMidpoint err: \",err_mid)\n"
      ]
    }
  ]
}