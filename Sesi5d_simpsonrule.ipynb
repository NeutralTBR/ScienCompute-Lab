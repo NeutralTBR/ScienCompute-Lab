{
  "nbformat": 4,
  "nbformat_minor": 0,
  "metadata": {
    "colab": {
      "provenance": [],
      "authorship_tag": "ABX9TyNSeCSETiaHa/ZzcNzQck4Q",
      "include_colab_link": true
    },
    "kernelspec": {
      "name": "python3",
      "display_name": "Python 3"
    },
    "language_info": {
      "name": "python"
    }
  },
  "cells": [
    {
      "cell_type": "markdown",
      "metadata": {
        "id": "view-in-github",
        "colab_type": "text"
      },
      "source": [
        "<a href=\"https://colab.research.google.com/github/NeutralTBR/ScienCompute-Lab/blob/main/Sesi5d_simpsonrule.ipynb\" target=\"_parent\"><img src=\"https://colab.research.google.com/assets/colab-badge.svg\" alt=\"Open In Colab\"/></a>"
      ]
    },
    {
      "cell_type": "markdown",
      "source": [
        "py's quadfunc"
      ],
      "metadata": {
        "id": "lpU9OeoXIYh_"
      }
    },
    {
      "cell_type": "code",
      "source": [
        "from scipy.integrate import quad\n",
        "\n",
        "I_quad, est_err_quad = \\\n",
        "        quad(np.sin, 0, np.pi)\n",
        "print(I_quad)\n",
        "err_quad = 2 - I_quad\n",
        "print(est_err_quad, err_quad)"
      ],
      "metadata": {
        "colab": {
          "base_uri": "https://localhost:8080/"
        },
        "id": "hiCI61PAGaSx",
        "outputId": "a7f6f602-c2f5-46a3-d11c-d0cb8b3f4e0c"
      },
      "execution_count": 7,
      "outputs": [
        {
          "output_type": "stream",
          "name": "stdout",
          "text": [
            "2.0\n",
            "2.220446049250313e-14 0.0\n"
          ]
        }
      ]
    },
    {
      "cell_type": "markdown",
      "source": [
        "simpson 1/3"
      ],
      "metadata": {
        "id": "wYXbgsj9GlYn"
      }
    },
    {
      "cell_type": "code",
      "execution_count": 8,
      "metadata": {
        "colab": {
          "base_uri": "https://localhost:8080/"
        },
        "id": "CLE6nkwLDlP9",
        "outputId": "afed8134-f2eb-4f9e-9aed-a490d81940ce"
      },
      "outputs": [
        {
          "output_type": "stream",
          "name": "stdout",
          "text": [
            "2.0001095173150043\n",
            "-0.00010951731500430384\n"
          ]
        }
      ],
      "source": [
        "import numpy as np\n",
        "\n",
        "a = 0\n",
        "b = np.pi\n",
        "n = 11\n",
        "h = (b - a) / (n - 1)\n",
        "x = np.linspace(a, b, n)\n",
        "f = np.sin(x)\n",
        "\n",
        "I_simp = (h/3) * (f[0] + 2*sum(f[:n-2:2]) \\\n",
        "                  + 4*sum(f[1:n-1:2]) + f[n-1])\n",
        "err_simp = 2 - I_simp\n",
        "\n",
        "print(I_simp)\n",
        "print(err_simp)"
      ]
    }
  ]
}